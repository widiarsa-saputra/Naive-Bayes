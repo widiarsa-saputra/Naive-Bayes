{
 "cells": [
  {
   "cell_type": "code",
   "execution_count": 1,
   "id": "a5d5c85f",
   "metadata": {},
   "outputs": [],
   "source": [
    "from naiveBayesModel import NaiveBayesClass\n",
    "import pandas as pd"
   ]
  },
  {
   "cell_type": "code",
   "execution_count": 2,
   "id": "86c2a1bb",
   "metadata": {},
   "outputs": [
    {
     "name": "stdout",
     "output_type": "stream",
     "text": [
      "Saved model in model/naive_bayes_pos.json\n"
     ]
    }
   ],
   "source": [
    "data = pd.read_pickle(\"data/train/indonesian_pos_train.pkl\")\n",
    "df = pd.DataFrame(data)\n",
    "\n",
    "X = list(df['words'])\n",
    "Y = list(df['pos'])\n",
    "\n",
    "model = NaiveBayesClass(X, Y)\n",
    "model.save_parameters(\n",
    "    filepath=\"naive_bayes_pos.json\"\n",
    ")"
   ]
  },
  {
   "cell_type": "code",
   "execution_count": 4,
   "id": "77db649c",
   "metadata": {},
   "outputs": [],
   "source": [
    "model = NaiveBayesClass()\n",
    "model.load_parameters('model/naive_bayes_pos.json')"
   ]
  },
  {
   "cell_type": "code",
   "execution_count": 5,
   "id": "324af884",
   "metadata": {},
   "outputs": [],
   "source": [
    "data_test = pd.read_pickle(\"data/test/indonesian_pos_test.pkl\")\n",
    "df_test = pd.DataFrame(data)\n",
    "\n",
    "X_test = list(df['words'])\n",
    "Y_test = list(df['pos'])"
   ]
  },
  {
   "cell_type": "code",
   "execution_count": 6,
   "id": "06971d85",
   "metadata": {},
   "outputs": [
    {
     "name": "stdout",
     "output_type": "stream",
     "text": [
      "\tlabel      | accuracY\n",
      "\n",
      "\tPROPN      | 0.97\n",
      "\tVERB       | 0.96\n",
      "\tDET        | 0.90\n",
      "\tAUX        | 0.97\n",
      "\tADP        | 0.98\n",
      "\tSYM        | 0.00\n",
      "\tPUNCT      | 1.00\n",
      "\tADV        | 0.73\n",
      "\t_          | 0.29\n",
      "\tCCONJ      | 0.99\n",
      "\tINTJ       | 0.00\n",
      "\tPART       | 0.95\n",
      "\tPRON       | 0.98\n",
      "\tSCONJ      | 0.32\n",
      "\tX          | 0.00\n",
      "\tNUM        | 0.77\n",
      "\tNOUN       | 0.96\n",
      "\tADJ        | 0.68\n",
      "\n",
      "Accuracy total | 0.92\n"
     ]
    },
    {
     "data": {
      "text/plain": [
       "0.9217604896512845"
      ]
     },
     "execution_count": 6,
     "metadata": {},
     "output_type": "execute_result"
    }
   ],
   "source": [
    "model.accuracy(\n",
    "    X=X_test,\n",
    "    Y=Y_test\n",
    ")"
   ]
  }
 ],
 "metadata": {
  "kernelspec": {
   "display_name": "Python 3",
   "language": "python",
   "name": "python3"
  },
  "language_info": {
   "codemirror_mode": {
    "name": "ipython",
    "version": 3
   },
   "file_extension": ".py",
   "mimetype": "text/x-python",
   "name": "python",
   "nbconvert_exporter": "python",
   "pygments_lexer": "ipython3",
   "version": "3.11.0"
  }
 },
 "nbformat": 4,
 "nbformat_minor": 5
}
