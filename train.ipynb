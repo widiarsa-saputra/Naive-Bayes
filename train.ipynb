{
 "cells": [
  {
   "cell_type": "code",
   "execution_count": 1,
   "id": "a5d5c85f",
   "metadata": {},
   "outputs": [],
   "source": [
    "from naiveBayesModel import NaiveBayesClass\n",
    "import pandas as pd\n",
    "from collections import Counter"
   ]
  },
  {
   "cell_type": "code",
   "execution_count": 2,
   "id": "86c2a1bb",
   "metadata": {},
   "outputs": [
    {
     "name": "stdout",
     "output_type": "stream",
     "text": [
      "Saved model in model/naive_bayes_pos.json\n"
     ]
    }
   ],
   "source": [
    "data = pd.read_pickle(\"data/train/indonesian_pos_train.pkl\")\n",
    "df = pd.DataFrame(data)\n",
    "\n",
    "X = df['words'].values.tolist()\n",
    "Y = df['pos'].values.tolist()\n",
    "\n",
    "model = NaiveBayesClass(\n",
    "    X=X, \n",
    "    Y=Y,\n",
    "    type=\"discreate\"\n",
    ")\n",
    "model.save_parameters(\n",
    "    filepath=\"naive_bayes_pos.json\"\n",
    ")"
   ]
  },
  {
   "cell_type": "code",
   "execution_count": 3,
   "id": "77db649c",
   "metadata": {},
   "outputs": [],
   "source": [
    "model = NaiveBayesClass()\n",
    "model.load_parameters('model/naive_bayes_pos.json')"
   ]
  },
  {
   "cell_type": "code",
   "execution_count": 4,
   "id": "324af884",
   "metadata": {},
   "outputs": [],
   "source": [
    "data_test = pd.read_pickle(\"data/test/indonesian_pos_test.pkl\")\n",
    "df_test = pd.DataFrame(data_test)\n",
    "\n",
    "X_test = df['words'].values.tolist()\n",
    "Y_test = df['pos'].values.tolist()"
   ]
  },
  {
   "cell_type": "code",
   "execution_count": 5,
   "id": "06971d85",
   "metadata": {},
   "outputs": [
    {
     "name": "stdout",
     "output_type": "stream",
     "text": [
      "\tPRON       | 0.98\n",
      "\tSCONJ      | 0.32\n",
      "\tNUM        | 0.77\n",
      "\tPART       | 0.95\n",
      "\tCCONJ      | 0.99\n",
      "\tSYM        | 0.00\n",
      "\tDET        | 0.90\n",
      "\tVERB       | 0.96\n",
      "\tX          | 0.00\n",
      "\tADP        | 0.98\n",
      "\tAUX        | 0.97\n",
      "\t_          | 0.29\n",
      "\tNOUN       | 0.96\n",
      "\tPROPN      | 0.97\n",
      "\tPUNCT      | 1.00\n",
      "\tADJ        | 0.68\n",
      "\tADV        | 0.73\n",
      "\tINTJ       | 0.00\n",
      "\n",
      "Accuracy total | 0.92\n"
     ]
    }
   ],
   "source": [
    "states = list(set([s for seq in Y_test for s in seq]))\n",
    "tp_all = Counter()\n",
    "total_all = sum([len(seq) for seq in Y_test])\n",
    "for s in states:\n",
    "    tp = 0\n",
    "    total = 0\n",
    "    for i in range(len(X_test)):\n",
    "        for j in range(len(X_test[i])):\n",
    "            Y_pred = model.predict(\n",
    "                X=[X_test[i][j]],\n",
    "                type=\"discreate\"\n",
    "            )\n",
    "            if Y_test[i][j] == s:\n",
    "                if Y_pred == Y_test[i][j]:\n",
    "                    tp += 1\n",
    "                    tp_all[s] += 1\n",
    "                total += 1\n",
    "    print(f\"\\t{s:<10} | {tp/total:.2f}\")\n",
    "print(f\"\\n{'Accuracy total':>10} | {sum(tp_all.values())/total_all:.2f}\")"
   ]
  },
  {
   "cell_type": "code",
   "execution_count": 120,
   "id": "7b262365",
   "metadata": {},
   "outputs": [],
   "source": [
    "from sklearn.model_selection import train_test_split\n",
    "from sklearn.preprocessing import LabelEncoder\n",
    "from sklearn.metrics import confusion_matrix, classification_report\n",
    "from sklearn.naive_bayes import GaussianNB\n",
    "import seaborn as sns\n",
    "import matplotlib.pyplot as plt\n",
    "\n",
    "le = LabelEncoder()"
   ]
  },
  {
   "cell_type": "code",
   "execution_count": null,
   "id": "829096e2",
   "metadata": {},
   "outputs": [],
   "source": [
    "data = pd.read_csv(\"data/raw/Heart_Attack_Risk_Levels_Dataset.csv\")\n",
    "df = pd.DataFrame(data)\n",
    "df = df.drop(columns=['Recommendation'])\n",
    "\n",
    "df['Result'] = le.fit_transform(df['Result'])\n",
    "df['Risk_Level'] = le.fit_transform(df['Risk_Level'])\n",
    "\n",
    "\n",
    "columns = ['Age', 'Gender', 'Heart rate', 'Systolic blood pressure', 'Diastolic blood pressure', \n",
    "           'Blood sugar', 'CK-MB', 'Troponin']\n",
    "\n",
    "for feature in columns:\n",
    "    mean = df[feature].mean()\n",
    "    std = df[feature].std()\n",
    "    df[feature] = (df[feature] - mean) / std\n",
    "\n",
    "X = df.drop(columns=['Result'])\n",
    "y = df['Result']\n",
    "    \n",
    "X_train, X_test, y_train, y_test = train_test_split(X, y, test_size=0.2, random_state=42)"
   ]
  },
  {
   "cell_type": "code",
   "execution_count": null,
   "id": "66ad00ef",
   "metadata": {},
   "outputs": [],
   "source": [
    "model = GaussianNB()\n",
    "\n",
    "model.fit(X_train, y_train)\n",
    "y_pred = model.predict(X_test)\n",
    "\n",
    "\n",
    "print(classification_report(y_test, y_pred))\n",
    "\n",
    "# Confusion Matrix\n",
    "cm = confusion_matrix(y_test, y_pred)\n",
    "sns.heatmap(cm, annot=True, fmt='d', cmap='Blues')\n",
    "plt.title(f'Naive Bayes - Confusion Matrix')\n",
    "plt.xlabel('Predicted')\n",
    "plt.ylabel('Actual')\n",
    "plt.show()"
   ]
  },
  {
   "cell_type": "code",
   "execution_count": 127,
   "id": "78fdc8e2",
   "metadata": {},
   "outputs": [],
   "source": [
    "data = pd.read_csv(\"data/raw/Heart_Attack_Risk_Levels_Dataset.csv\")\n",
    "df = pd.DataFrame(data)\n",
    "\n",
    "\n",
    "columns = ['Age', 'Heart rate', 'Systolic blood pressure', 'Diastolic blood pressure', \n",
    "           'Blood sugar', 'CK-MB', 'Troponin']\n",
    "split_index = int(len(df) * 0.8)\n",
    "x_train, x_test = df[columns][:split_index], df[columns][split_index:]\n",
    "y_train, y_test = df[\"Result\"][:split_index], df[\"Result\"][split_index:]"
   ]
  },
  {
   "cell_type": "code",
   "execution_count": 128,
   "id": "5bed8f71",
   "metadata": {},
   "outputs": [],
   "source": [
    "# Gabungkan X dan Y sebagai kolom\n",
    "train_data = pd.concat([x_train, y_train], axis=1)\n",
    "test_data = pd.concat([x_test, y_test], axis=1)\n",
    "\n",
    "train_data.to_pickle(\"data/train/heart_attack_train.pkl\")\n",
    "test_data.to_pickle(\"data/test/heart_attack_test.pkl\")"
   ]
  },
  {
   "cell_type": "code",
   "execution_count": 109,
   "id": "d318077b",
   "metadata": {},
   "outputs": [
    {
     "name": "stdout",
     "output_type": "stream",
     "text": [
      "Saved model in model/heart_attack_classifier.json\n"
     ]
    }
   ],
   "source": [
    "data = pd.read_pickle(\"data/train/heart_attack_train.pkl\")\n",
    "df = pd.DataFrame(data)\n",
    "\n",
    "X = df[columns].values.tolist()\n",
    "Y = df['Result'].values.tolist()\n",
    "\n",
    "model = NaiveBayesClass(\n",
    "    X=X, \n",
    "    Y=Y,\n",
    "    type=\"continous\"\n",
    ")\n",
    "model.save_parameters(\n",
    "    filepath=\"heart_attack_classifier.json\"\n",
    ")"
   ]
  },
  {
   "cell_type": "code",
   "execution_count": 110,
   "id": "01072284",
   "metadata": {},
   "outputs": [],
   "source": [
    "from naiveBayesModel import NaiveBayesClass\n",
    "import pandas as pd\n",
    "from collections import Counter"
   ]
  },
  {
   "cell_type": "code",
   "execution_count": 111,
   "id": "ecfd6802",
   "metadata": {},
   "outputs": [],
   "source": [
    "model = NaiveBayesClass()\n",
    "model.load_parameters('model/heart_attack_classifier.json')"
   ]
  },
  {
   "cell_type": "code",
   "execution_count": 112,
   "id": "f7f683b9",
   "metadata": {},
   "outputs": [],
   "source": [
    "data_test = pd.read_pickle(\"data/test/heart_attack_test.pkl\")\n",
    "df_test = pd.DataFrame(data_test)\n",
    "\n",
    "X_test = df_test[columns].values.tolist()\n",
    "Y_test = df_test['Result'].values.tolist()"
   ]
  },
  {
   "cell_type": "code",
   "execution_count": 113,
   "id": "a25a3818",
   "metadata": {},
   "outputs": [
    {
     "name": "stdout",
     "output_type": "stream",
     "text": [
      "\tnegative   | 0.99\n",
      "\tpositive   | 0.50\n",
      "\n",
      "Accuracy total | 0.69\n"
     ]
    }
   ],
   "source": [
    "states = list(set(Y_test))\n",
    "tp_all = Counter()\n",
    "total_all = len(Y_test)\n",
    "for s in states:\n",
    "    tp = 0\n",
    "    total = 0\n",
    "    for i in range(len(X_test)):\n",
    "        Y_pred = model.predict(\n",
    "            X=X_test[i],\n",
    "            type=\"continous\"\n",
    "        )\n",
    "        if Y_test[i] == s:\n",
    "            if Y_pred == Y_test[i]:\n",
    "                tp += 1\n",
    "                tp_all[s] += 1\n",
    "            total += 1\n",
    "    print(f\"\\t{s:<10} | {tp/total:.2f}\")\n",
    "\n",
    "print(f\"\\n{'Accuracy total':>10} | {sum(tp_all.values())/total_all:.2f}\")"
   ]
  },
  {
   "cell_type": "code",
   "execution_count": null,
   "id": "a9643c61",
   "metadata": {},
   "outputs": [],
   "source": []
  }
 ],
 "metadata": {
  "kernelspec": {
   "display_name": "Python 3",
   "language": "python",
   "name": "python3"
  },
  "language_info": {
   "codemirror_mode": {
    "name": "ipython",
    "version": 3
   },
   "file_extension": ".py",
   "mimetype": "text/x-python",
   "name": "python",
   "nbconvert_exporter": "python",
   "pygments_lexer": "ipython3",
   "version": "3.11.0"
  }
 },
 "nbformat": 4,
 "nbformat_minor": 5
}
